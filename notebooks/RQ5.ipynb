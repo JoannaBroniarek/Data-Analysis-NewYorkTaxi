{
 "cells": [
  {
   "cell_type": "markdown",
   "metadata": {},
   "source": [
    "## RQ5: Does a long distance correlate with the duration of the trip on average? \n",
    "\n",
    "The next step is plotting the dependence between distance and duration of the trip. Before that, we need some exploratory analysis to clean our data. Then, we will show the distributions for both features and compute the Pearson Coefficient.\n",
    "\n",
    "We import Python libraries and functions defined in another file that we will need for our analysis."
   ]
  },
  {
   "cell_type": "code",
   "execution_count": 2,
   "metadata": {},
   "outputs": [],
   "source": [
    "import pandas as pd\n",
    "import matplotlib.pyplot as plt\n",
    "import seaborn as sns\n",
    "from scipy import stats\n",
    "import numpy as np\n",
    "\n",
    "import RQ5_functions\n",
    "import warnings; warnings.simplefilter('ignore')"
   ]
  },
  {
   "cell_type": "markdown",
   "metadata": {},
   "source": [
    "During these analysis the most interesting columns are:\n",
    "* **Trip_distance** - The elapsed trip distance in miles reported by the taximeter\n",
    "* **tpep_pickup_datetime** - The date and time when the meter was engaged.\n",
    "* **tpep_dropoff_datetime** - The date and time when the meter was disengaged. "
   ]
  },
  {
   "cell_type": "markdown",
   "metadata": {},
   "source": [
    "### Preparing and filtering data for each month\n",
    "----------"
   ]
  },
  {
   "cell_type": "markdown",
   "metadata": {},
   "source": [
    "We calculated the duration of all taxi journeys each month as in RQ3 question above. The information about the trip distance is located in column 'trip_distance'. The function **get_trip_duration_and_distance_all_months** calculates and selects these data and returns as a data frame."
   ]
  },
  {
   "cell_type": "code",
   "execution_count": 5,
   "metadata": {},
   "outputs": [],
   "source": [
    "# trip_duration_and_distance_df = pd.read_csv(\"D:/trip_duration_and_distance.csv\")\n",
    "trip_duration_and_distance_df = RQ5_functions.get_trip_duration_and_distance_all_months()"
   ]
  },
  {
   "cell_type": "markdown",
   "metadata": {},
   "source": [
    "Let's look at the basic statistics describing our data. In particular, we turned our attention to the percentages that give information on how the data is distributed. We noticed that the 99th percentile is much smaller than the maximum value. This suggests that there are outliers in the data collected. For a more accurate analysis, we will now filter the most important data for both trip duration and trip_distance columns."
   ]
  },
  {
   "cell_type": "code",
   "execution_count": 11,
   "metadata": {},
   "outputs": [
    {
     "data": {
      "text/html": [
       "<div>\n",
       "<style scoped>\n",
       "    .dataframe tbody tr th:only-of-type {\n",
       "        vertical-align: middle;\n",
       "    }\n",
       "\n",
       "    .dataframe tbody tr th {\n",
       "        vertical-align: top;\n",
       "    }\n",
       "\n",
       "    .dataframe thead th {\n",
       "        text-align: right;\n",
       "    }\n",
       "</style>\n",
       "<table border=\"1\" class=\"dataframe\">\n",
       "  <thead>\n",
       "    <tr style=\"text-align: right;\">\n",
       "      <th></th>\n",
       "      <th>duration</th>\n",
       "      <th>trip_distance</th>\n",
       "    </tr>\n",
       "  </thead>\n",
       "  <tbody>\n",
       "    <tr>\n",
       "      <th>count</th>\n",
       "      <td>5.392574e+07</td>\n",
       "      <td>5.392574e+07</td>\n",
       "    </tr>\n",
       "    <tr>\n",
       "      <th>mean</th>\n",
       "      <td>1.604486e+01</td>\n",
       "      <td>2.900861e+00</td>\n",
       "    </tr>\n",
       "    <tr>\n",
       "      <th>std</th>\n",
       "      <td>1.455252e+03</td>\n",
       "      <td>2.607412e+01</td>\n",
       "    </tr>\n",
       "    <tr>\n",
       "      <th>min</th>\n",
       "      <td>-1.066961e+07</td>\n",
       "      <td>0.000000e+00</td>\n",
       "    </tr>\n",
       "    <tr>\n",
       "      <th>50%</th>\n",
       "      <td>1.000000e+01</td>\n",
       "      <td>1.600000e+00</td>\n",
       "    </tr>\n",
       "    <tr>\n",
       "      <th>60%</th>\n",
       "      <td>1.300000e+01</td>\n",
       "      <td>2.000000e+00</td>\n",
       "    </tr>\n",
       "    <tr>\n",
       "      <th>70%</th>\n",
       "      <td>1.600000e+01</td>\n",
       "      <td>2.560000e+00</td>\n",
       "    </tr>\n",
       "    <tr>\n",
       "      <th>80%</th>\n",
       "      <td>2.000000e+01</td>\n",
       "      <td>3.600000e+00</td>\n",
       "    </tr>\n",
       "    <tr>\n",
       "      <th>90%</th>\n",
       "      <td>2.700000e+01</td>\n",
       "      <td>6.710000e+00</td>\n",
       "    </tr>\n",
       "    <tr>\n",
       "      <th>95%</th>\n",
       "      <td>3.600000e+01</td>\n",
       "      <td>1.073000e+01</td>\n",
       "    </tr>\n",
       "    <tr>\n",
       "      <th>99%</th>\n",
       "      <td>6.100000e+01</td>\n",
       "      <td>1.890000e+01</td>\n",
       "    </tr>\n",
       "    <tr>\n",
       "      <th>max</th>\n",
       "      <td>8.852000e+03</td>\n",
       "      <td>1.894838e+05</td>\n",
       "    </tr>\n",
       "  </tbody>\n",
       "</table>\n",
       "</div>"
      ],
      "text/plain": [
       "           duration  trip_distance\n",
       "count  5.392574e+07   5.392574e+07\n",
       "mean   1.604486e+01   2.900861e+00\n",
       "std    1.455252e+03   2.607412e+01\n",
       "min   -1.066961e+07   0.000000e+00\n",
       "50%    1.000000e+01   1.600000e+00\n",
       "60%    1.300000e+01   2.000000e+00\n",
       "70%    1.600000e+01   2.560000e+00\n",
       "80%    2.000000e+01   3.600000e+00\n",
       "90%    2.700000e+01   6.710000e+00\n",
       "95%    3.600000e+01   1.073000e+01\n",
       "99%    6.100000e+01   1.890000e+01\n",
       "max    8.852000e+03   1.894838e+05"
      ]
     },
     "execution_count": 11,
     "metadata": {},
     "output_type": "execute_result"
    }
   ],
   "source": [
    "trip_duration_and_distance_df.describe(percentiles=[0.5, 0.6, 0.7, 0.8, 0.9, 0.95, 0.99])"
   ]
  },
  {
   "cell_type": "markdown",
   "metadata": {},
   "source": [
    "**The trip duration: **\n",
    "* Another important information that we obtained from the above analysis is the minimal trip duration. Of course, in reality, it is not possible to duration was negative. Similarly to the analysis from RQ3, it makes sense to not analyze the data that lasted 0 minutes. \n",
    "* According to the previous analysis [notebook for RQ3], we chose 100 minutes as the upper bound for the trip duration."
   ]
  },
  {
   "cell_type": "markdown",
   "metadata": {},
   "source": [
    "**The trip distance:**\n",
    "* In the case of trip distance, the first reasonable assumption is that it cannot be equal to 0. \n",
    "* Morover, the 99th percentile trip_distance is about 19 miles, and the maximum is almost 190,000.\n",
    "**What should be the upper bound for our data?** To be more certain, we check what is the percentile for a few scores."
   ]
  },
  {
   "cell_type": "code",
   "execution_count": 16,
   "metadata": {},
   "outputs": [
    {
     "name": "stdout",
     "output_type": "stream",
     "text": [
      "Trip distance less than...\n",
      "10 miles -> 94.341 percentile\n",
      "20 miles -> 99.383 percentile\n",
      "30 miles -> 99.961 percentile\n",
      "40 miles -> 99.990 percentile\n",
      "50 miles -> 99.996 percentile\n",
      "60 miles -> 99.998 percentile\n",
      "70 miles -> 99.999 percentile\n",
      "80 miles -> 99.999 percentile\n",
      "90 miles -> 100.000 percentile\n"
     ]
    }
   ],
   "source": [
    "print(\"Trip distance less than...\")\n",
    "for score in range(10, 100, 10):\n",
    "    print(\"{0} miles -> {1:.3f} percentile\".format(score, stats.percentileofscore(trip_duration_and_distance_df.trip_distance, score)))"
   ]
  },
  {
   "cell_type": "markdown",
   "metadata": {},
   "source": [
    "* It seems wise to select trips where the distance is less than 30 miles, because after this filtration our data will still account for 99.96% of all data."
   ]
  },
  {
   "cell_type": "code",
   "execution_count": 4,
   "metadata": {},
   "outputs": [],
   "source": [
    "# Filtering according to our assumptions above\n",
    "filtered_trip_duration_and_distance_df = trip_duration_and_distance_df[(trip_duration_and_distance_df.duration.between(0,100, inclusive=False))\\\n",
    "                                                                       & (trip_duration_and_distance_df.trip_distance.between(0, 30, inclusive=False))]"
   ]
  },
  {
   "cell_type": "markdown",
   "metadata": {},
   "source": [
    "---------------\n",
    "## Visualization of data"
   ]
  },
  {
   "cell_type": "markdown",
   "metadata": {},
   "source": [
    "We plot the Cumulative Distribution Function:"
   ]
  },
  {
   "cell_type": "code",
   "execution_count": 42,
   "metadata": {},
   "outputs": [
    {
     "data": {
      "text/plain": [
       "Text(0.5,1,'The trip duration Cumulative DF')"
      ]
     },
     "execution_count": 42,
     "metadata": {},
     "output_type": "execute_result"
    },
    {
     "data": {
      "image/png": "[encoded data removed]",
      "text/plain": [
       "<Figure size 576x216 with 2 Axes>"
      ]
     },
     "metadata": {},
     "output_type": "display_data"
    }
   ],
   "source": [
    "RQ5_functions.plot_cdf(filtered_trip_duration_and_distance_df)"
   ]
  },
  {
   "cell_type": "markdown",
   "metadata": {},
   "source": [
    "In both cases, CDF quickly increases to 1. We also can see that our sample covers a majority of data. "
   ]
  },
  {
   "cell_type": "markdown",
   "metadata": {},
   "source": [
    "Then, we plot the density histograms for both 'trip_distance' and 'duration' columns:"
   ]
  },
  {
   "cell_type": "code",
   "execution_count": 7,
   "metadata": {},
   "outputs": [
    {
     "data": {
      "text/plain": [
       "Text(0.5,1,'The trip duration distribution')"
      ]
     },
     "execution_count": 7,
     "metadata": {},
     "output_type": "execute_result"
    },
    {
     "data": {
      "image/png": "[encoded data removed]",
      "text/plain": [
       "<Figure size 864x432 with 2 Axes>"
      ]
     },
     "metadata": {},
     "output_type": "display_data"
    }
   ],
   "source": [
    "RQ5_functions.plot_density(filtered_trip_duration_and_distance_df)"
   ]
  },
  {
   "cell_type": "markdown",
   "metadata": {},
   "source": [
    "* Both plots are the right-skewed distributions.They are not normally distributed.\n",
    "* Most of the trip distances is about 2 miles. For the large distances, the decrease is very fast."
   ]
  },
  {
   "cell_type": "markdown",
   "metadata": {},
   "source": [
    "---------------"
   ]
  },
  {
   "cell_type": "markdown",
   "metadata": {},
   "source": [
    "### Correlation between distance and duration of the trip.\n"
   ]
  },
  {
   "cell_type": "markdown",
   "metadata": {},
   "source": [
    "* **Pearson** is the most widely used correlation coefficient. Pearson correlation measures the linear association between continuous variables. In other words, this coefficient quantifies the degree to which a relationship between two variables can be described by a line. [1]\n",
    "* Pearson’s correlation requires for each dataset **to be normally distributed** [3]"
   ]
  },
  {
   "cell_type": "markdown",
   "metadata": {},
   "source": [
    "__To have the normally distributed data, we calculated the logaritmic values for both datasets.__\n",
    "\n",
    "The distributions are shown on marginal axes of the plot below."
   ]
  },
  {
   "cell_type": "code",
   "execution_count": 5,
   "metadata": {},
   "outputs": [],
   "source": [
    "# Adding Columns with the logaritmic values for the distance and duration\n",
    "filtered_trip_duration_and_distance_df[\"log_trip_duration\"] = np.log(filtered_trip_duration_and_distance_df.duration)\n",
    "filtered_trip_duration_and_distance_df[\"log_trip_distance\"] = np.log(filtered_trip_duration_and_distance_df.trip_distance)"
   ]
  },
  {
   "cell_type": "code",
   "execution_count": 12,
   "metadata": {},
   "outputs": [
    {
     "data": {
      "image/png": "[encoded data removed]",
      "text/plain": [
       "<Figure size 432x432 with 3 Axes>"
      ]
     },
     "metadata": {},
     "output_type": "display_data"
    }
   ],
   "source": [
    "with sns.axes_style('white'):\n",
    "    sns.jointplot(\"log_trip_duration\", \"log_trip_distance\", sample_df, kind='hex')"
   ]
  },
  {
   "cell_type": "markdown",
   "metadata": {},
   "source": [
    "The seaborn function automatically calculates the Pearson's Coefficient and the p-value.\n"
   ]
  },
  {
   "cell_type": "markdown",
   "metadata": {},
   "source": [
    "* Function **scipy.stats.pearsonr(x, y)** -- Calculates a Pearson correlation coefficient and the p-value for testing non-correlation."
   ]
  },
  {
   "cell_type": "code",
   "execution_count": 9,
   "metadata": {},
   "outputs": [
    {
     "data": {
      "text/plain": [
       "(0.8436771271402189, 0.0)"
      ]
     },
     "execution_count": 9,
     "metadata": {},
     "output_type": "execute_result"
    }
   ],
   "source": [
    "stats.pearsonr(filtered_trip_duration_and_distance_df[\"log_trip_duration\"],filtered_trip_duration_and_distance_df[\"log_trip_distance\"])"
   ]
  },
  {
   "cell_type": "markdown",
   "metadata": {},
   "source": [
    "* The Pearson Correlation is about 0.84. There is **quite a strong, positive linear relationship** between the length and duration of the trip. We noticed the kind of linearity on the plot, as well.\n",
    "* P-value is 0.0 and less than 0.05, so it means that the correlation is **statistically significant**"
   ]
  },
  {
   "cell_type": "markdown",
   "metadata": {},
   "source": [
    "----------"
   ]
  },
  {
   "cell_type": "markdown",
   "metadata": {},
   "source": [
    "Sources:\n",
    "[1] https://www.datascience.com/blog/introduction-to-correlation-learn-data-science-tutorials\n",
    "[2] https://pandas.pydata.org\n",
    "[3] https://docs.scipy.org/\n",
    "[4] https://matplotlib.org"
   ]
  }
 ],
 "metadata": {
  "kernelspec": {
   "display_name": "Python 3",
   "language": "python",
   "name": "python3"
  },
  "language_info": {
   "codemirror_mode": {
    "name": "ipython",
    "version": 3
   },
   "file_extension": ".py",
   "mimetype": "text/x-python",
   "name": "python",
   "nbconvert_exporter": "python",
   "pygments_lexer": "ipython3",
   "version": "3.6.4"
  }
 },
 "nbformat": 4,
 "nbformat_minor": 2
}
