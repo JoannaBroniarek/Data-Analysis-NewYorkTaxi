{
 "cells": [
  {
   "cell_type": "markdown",
   "metadata": {},
   "source": [
    "# RQ3: Do the all trips last the same?  (EDA)\n",
    "Now we are going to analyze the distribution of the duration of the trip. To do this, at the beginning we calculate the trip duration based on data from 2018. Next, we will look at the data and on this basis we will perform filtration and cleaning. Next, we will launch the analysis for NYC and for each borough, while visualizing the results accordingly."
   ]
  },
  {
   "cell_type": "markdown",
   "metadata": {},
   "source": [
    "We import Python libraries and functions defined in another file that we will need for our analysis."
   ]
  },
  {
   "cell_type": "code",
   "execution_count": 1,
   "metadata": {},
   "outputs": [],
   "source": [
    "import pandas as pd\n",
    "import matplotlib.pyplot as plt\n",
    "import seaborn as sns\n",
    "from scipy import stats\n",
    "import RQ3_functions\n",
    "import warnings; warnings.simplefilter('ignore')"
   ]
  },
  {
   "cell_type": "markdown",
   "metadata": {},
   "source": [
    "In the analysis, we used the following data columns:\n",
    "* **tpep_pickup_datetime** - The date and time when the meter was engaged.\n",
    "* **tpep_dropoff_datetime** -  The date and time when the meter was disengaged. \n",
    "* **PULocationID** -  TLC Taxi Zone in which the taximeter was engaged\n",
    "* **DOLocationID** -  TLC Taxi Zone in which the taximeter was disengaged\n"
   ]
  },
  {
   "cell_type": "markdown",
   "metadata": {},
   "source": [
    "We calculated the duration of all taxi journeys each month, which is the time between column \"tpep_pickup_datetime\" and column \"tpep_dropoff_datetime\". \n",
    "\n",
    "The function **get_trip_duration_all_months** returns a data frame with interested columns and an additional column that contains the calculated values in minutes."
   ]
  },
  {
   "cell_type": "code",
   "execution_count": 7,
   "metadata": {},
   "outputs": [],
   "source": [
    "# trip_duration_all_months_df = pd.read_csv(\"D:/trip_duration_all_months_df.csv\")"
   ]
  },
  {
   "cell_type": "code",
   "execution_count": 3,
   "metadata": {},
   "outputs": [],
   "source": [
    "trip_duration_all_months_df = RQ3_functions.get_trip_duration_all_months(path = \"D:/\")"
   ]
  },
  {
   "cell_type": "markdown",
   "metadata": {},
   "source": [
    "Information about boroughs is obtained from the CSV table : taxi_zone_lookup.csv"
   ]
  },
  {
   "cell_type": "code",
   "execution_count": 4,
   "metadata": {},
   "outputs": [
    {
     "name": "stdout",
     "output_type": "stream",
     "text": [
      "The unique boroughs are: ['EWR' 'Queens' 'Bronx' 'Manhattan' 'Staten Island' 'Brooklyn' 'Unknown']\n"
     ]
    }
   ],
   "source": [
    "taxi_zone_lookup = pd.read_csv(\"taxi_zone_lookup.csv\")\n",
    "print(\"The unique boroughs are: {}\".format(taxi_zone_lookup[\"Borough\"].unique()))"
   ]
  },
  {
   "cell_type": "markdown",
   "metadata": {},
   "source": [
    "After preliminary analysis we see that there are six boroughs, which corresponds to the LocationID column. It has also been noticed that the data contains \"Unknown\" locations.\n",
    "\n",
    "------------"
   ]
  },
  {
   "cell_type": "markdown",
   "metadata": {},
   "source": [
    "### Data filtration and cleaning \n"
   ]
  },
  {
   "cell_type": "markdown",
   "metadata": {},
   "source": [
    "We check the most common statistics about the **duration** column:"
   ]
  },
  {
   "cell_type": "code",
   "execution_count": 8,
   "metadata": {},
   "outputs": [
    {
     "data": {
      "text/plain": [
       "count    5.392574e+07\n",
       "mean     1.604486e+01\n",
       "std      1.455252e+03\n",
       "min     -1.066961e+07\n",
       "50%      1.000000e+01\n",
       "60%      1.300000e+01\n",
       "70%      1.600000e+01\n",
       "80%      2.000000e+01\n",
       "90%      2.700000e+01\n",
       "95%      3.600000e+01\n",
       "99%      6.100000e+01\n",
       "max      8.852000e+03\n",
       "Name: duration, dtype: float64"
      ]
     },
     "execution_count": 8,
     "metadata": {},
     "output_type": "execute_result"
    }
   ],
   "source": [
    "trip_duration_all_months_df.duration.describe(percentiles=[0.5, 0.6, 0.7, 0.8, 0.9, 0.95, 0.99])"
   ]
  },
  {
   "cell_type": "markdown",
   "metadata": {},
   "source": [
    "* We observe that **the minimum value is less than 0 minutes**. It is in reality impossible (probably there was a mistake). Thus, it is reasonable to ignore values less than 0 minutes as well as equal to 0. \n",
    "* What about the upper range? We noticed that **the maximum value is much higher than 99th percentile**. For the further analysis we wanna ignore the outliers. \n",
    "--------------\n",
    "To decide where to set the upper limit for data on trip length, we check for a few selected values their percentiles."
   ]
  },
  {
   "cell_type": "code",
   "execution_count": 9,
   "metadata": {},
   "outputs": [
    {
     "name": "stdout",
     "output_type": "stream",
     "text": [
      "Trip duration less than...\n",
      "70 mins -> 99.393 percentile\n",
      "80 mins -> 99.610 percentile\n",
      "90 mins -> 99.713 percentile\n",
      "100 mins -> 99.757 percentile\n",
      "110 mins -> 99.775 percentile\n",
      "120 mins -> 99.783 percentile\n"
     ]
    }
   ],
   "source": [
    "print(\"Trip duration less than...\")\n",
    "for score in range(70, 130, 10):\n",
    "    print(\"{0} mins -> {1:.3f} percentile\".format(score, stats.percentileofscore(trip_duration_all_months_df.duration, score)))"
   ]
  },
  {
   "cell_type": "markdown",
   "metadata": {},
   "source": [
    "* It seems rational to conduct analysis for **trips under 100 minutes**, that represent a significant amount of data.\n",
    "\n",
    "Subsequently, on the basis of the above analyzes and assumptions, we filter the data on the duration of the trip."
   ]
  },
  {
   "cell_type": "code",
   "execution_count": 10,
   "metadata": {},
   "outputs": [],
   "source": [
    "filtered_trip_duration_df = trip_duration_all_months_df[trip_duration_all_months_df.duration.between(0, 100, inclusive=False)]"
   ]
  },
  {
   "cell_type": "markdown",
   "metadata": {},
   "source": [
    "### Visualization for the NYC"
   ]
  },
  {
   "cell_type": "markdown",
   "metadata": {},
   "source": [
    "We plot **the density histogram** for the duration column. \n",
    "Additionally, we draw two vertical lines, which are **the mean line - in black** and **the mode line - in blue** ."
   ]
  },
  {
   "cell_type": "code",
   "execution_count": 18,
   "metadata": {},
   "outputs": [
    {
     "data": {
      "image/png": "[encoded data removed]",
      "text/plain": [
       "<Figure size 432x288 with 1 Axes>"
      ]
     },
     "metadata": {},
     "output_type": "display_data"
    }
   ],
   "source": [
    "RQ3_functions.plot_distribution_trip_duration(filtered_trip_duration_df)"
   ]
  },
  {
   "cell_type": "markdown",
   "metadata": {},
   "source": [
    "* It is **a right-skewed distribution**, in which the data tends to gradually taper off to a right long tail. This means that for long-lasting journeys, the longer the time, the less likely they are to occur.\n",
    "* Outliers were filtered out previously. The data is from range (0, 100) minutes.\n",
    "* **Mean = 13.6**. On average, the taxi trip duration is about 14 minutes.\n",
    "* **Standard deviation = 11.3**\n",
    "* **The mode = 6**. It means that the trips which lasts 6 minutes are very common. It seems to be reasonable.  "
   ]
  },
  {
   "cell_type": "markdown",
   "metadata": {},
   "source": [
    "-------------\n",
    "### Analysis and visualization for each borough"
   ]
  },
  {
   "cell_type": "markdown",
   "metadata": {},
   "source": [
    "This analysis is based on __PULocationID__ - the location in which the taximeter was engaged.\n",
    "\n",
    "At first, we merge the data frame with the trip duration with the taxi_lookup_file in order to get information about each borough. Then, we group by a borough and calculate some statistics like the mean and number of records. Finally, we visualise the distributions for each borough using seaborn library."
   ]
  },
  {
   "cell_type": "code",
   "execution_count": 33,
   "metadata": {},
   "outputs": [
    {
     "data": {
      "text/html": [
       "<div>\n",
       "<style scoped>\n",
       "    .dataframe tbody tr th:only-of-type {\n",
       "        vertical-align: middle;\n",
       "    }\n",
       "\n",
       "    .dataframe tbody tr th {\n",
       "        vertical-align: top;\n",
       "    }\n",
       "\n",
       "    .dataframe thead tr th {\n",
       "        text-align: left;\n",
       "    }\n",
       "\n",
       "    .dataframe thead tr:last-of-type th {\n",
       "        text-align: right;\n",
       "    }\n",
       "</style>\n",
       "<table border=\"1\" class=\"dataframe\">\n",
       "  <thead>\n",
       "    <tr>\n",
       "      <th></th>\n",
       "      <th colspan=\"2\" halign=\"left\">duration</th>\n",
       "    </tr>\n",
       "    <tr>\n",
       "      <th></th>\n",
       "      <th>count</th>\n",
       "      <th>mean</th>\n",
       "    </tr>\n",
       "    <tr>\n",
       "      <th>Borough</th>\n",
       "      <th></th>\n",
       "      <th></th>\n",
       "    </tr>\n",
       "  </thead>\n",
       "  <tbody>\n",
       "    <tr>\n",
       "      <th>Bronx</th>\n",
       "      <td>51387</td>\n",
       "      <td>18.410512</td>\n",
       "    </tr>\n",
       "    <tr>\n",
       "      <th>Brooklyn</th>\n",
       "      <td>667319</td>\n",
       "      <td>14.791699</td>\n",
       "    </tr>\n",
       "    <tr>\n",
       "      <th>EWR</th>\n",
       "      <td>657</td>\n",
       "      <td>11.800609</td>\n",
       "    </tr>\n",
       "    <tr>\n",
       "      <th>Manhattan</th>\n",
       "      <td>48570759</td>\n",
       "      <td>12.297417</td>\n",
       "    </tr>\n",
       "    <tr>\n",
       "      <th>Queens</th>\n",
       "      <td>3247019</td>\n",
       "      <td>32.442868</td>\n",
       "    </tr>\n",
       "    <tr>\n",
       "      <th>Staten Island</th>\n",
       "      <td>513</td>\n",
       "      <td>25.436647</td>\n",
       "    </tr>\n",
       "    <tr>\n",
       "      <th>Unknown</th>\n",
       "      <td>793977</td>\n",
       "      <td>13.244881</td>\n",
       "    </tr>\n",
       "  </tbody>\n",
       "</table>\n",
       "</div>"
      ],
      "text/plain": [
       "               duration           \n",
       "                  count       mean\n",
       "Borough                           \n",
       "Bronx             51387  18.410512\n",
       "Brooklyn         667319  14.791699\n",
       "EWR                 657  11.800609\n",
       "Manhattan      48570759  12.297417\n",
       "Queens          3247019  32.442868\n",
       "Staten Island       513  25.436647\n",
       "Unknown          793977  13.244881"
      ]
     },
     "execution_count": 33,
     "metadata": {},
     "output_type": "execute_result"
    }
   ],
   "source": [
    "# Basic statistics for each borough\n",
    "grouped_trip_duration_borough = RQ3_functions.merge_and_group_by(filtered_trip_duration_df).agg({'mean', 'count'})\n",
    "grouped_trip_duration_borough"
   ]
  },
  {
   "cell_type": "markdown",
   "metadata": {},
   "source": [
    "Plotting the density histograms with fitted lines for each borough. "
   ]
  },
  {
   "cell_type": "code",
   "execution_count": 112,
   "metadata": {},
   "outputs": [
    {
     "name": "stderr",
     "output_type": "stream",
     "text": [
      "c:\\users\\asia\\appdata\\local\\programs\\python\\python36\\lib\\site-packages\\matplotlib\\axes\\_axes.py:6462: UserWarning: The 'normed' kwarg is deprecated, and has been replaced by the 'density' kwarg.\n",
      "  warnings.warn(\"The 'normed' kwarg is deprecated, and has been \"\n"
     ]
    },
    {
     "data": {
      "image/png": "[encoded data removed]",
      "text/plain": [
       "<Figure size 432x864 with 7 Axes>"
      ]
     },
     "metadata": {},
     "output_type": "display_data"
    }
   ],
   "source": [
    "g = sns.FacetGrid(trip_duration_borough, col='Borough', col_wrap=2)\n",
    "g = g.map(sns.distplot, \"duration\", kde=True)"
   ]
  },
  {
   "cell_type": "markdown",
   "metadata": {},
   "source": [
    "It is obvious that **all trips do not last the same**. Distributions of their duration are different for each borough.\n",
    "However, the brounghs: Bronx, MAnhattan and Brooklyn seems to be quite similar. They are right-skewed, as well. \n",
    "The borough EWR seems to be interesting, because there is a lot of very short-time trips. This borough has the smallest average length of taxi travel about 12 minutes.\n",
    "The distribution for the Queens is more flattened. There are usually more medium-lasting trips. The average length of the trip is about 30 minutes.\n"
   ]
  }
 ],
 "metadata": {
  "kernelspec": {
   "display_name": "Python 3",
   "language": "python",
   "name": "python3"
  },
  "language_info": {
   "codemirror_mode": {
    "name": "ipython",
    "version": 3
   },
   "file_extension": ".py",
   "mimetype": "text/x-python",
   "name": "python",
   "nbconvert_exporter": "python",
   "pygments_lexer": "ipython3",
   "version": "3.6.4"
  }
 },
 "nbformat": 4,
 "nbformat_minor": 2
}
