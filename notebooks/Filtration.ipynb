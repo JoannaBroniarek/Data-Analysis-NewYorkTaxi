{
 "cells": [
  {
   "cell_type": "markdown",
   "metadata": {},
   "source": [
    "# Filtration"
   ]
  },
  {
   "cell_type": "markdown",
   "metadata": {},
   "source": [
    "We have seen, after the different analysis in the precedent points, that there are many small problem in our datasets. Errors and wrongly registered data. Before stepping in the final part of our study we wish to clean the dataseta to do our finial calculation on it."
   ]
  },
  {
   "cell_type": "markdown",
   "metadata": {},
   "source": [
    "We identified different criterias:\n",
    "-  The value in 'tpep_pickup_datetime' and 'tpep_dropoff_datetime' need to be in the right month.\n",
    "- The duration of the trip must be higher than 0 and lower than 100 minutes, as found during the analysis of the RQ3.\n",
    "- 'trip_distance' must be more than 0 and less than 50, as the longest reasonable root from the two must far away point of our map are more or less 44 miles far away."
   ]
  },
  {
   "cell_type": "markdown",
   "metadata": {},
   "source": [
    "We do it calling a function from another file, that we conveniently importe. It will create 6 new files, one for each month, contaning the cleaned data."
   ]
  },
  {
   "cell_type": "code",
   "execution_count": null,
   "metadata": {},
   "outputs": [],
   "source": [
    "import Filtration_function\n",
    "Filtration_function.filter()"
   ]
  },
  {
   "cell_type": "markdown",
   "metadata": {},
   "source": [
    "From now on, we will use this new filtre dataset."
   ]
  }
 ],
 "metadata": {
  "kernelspec": {
   "display_name": "Python 3",
   "language": "python",
   "name": "python3"
  },
  "language_info": {
   "codemirror_mode": {
    "name": "ipython",
    "version": 3
   },
   "file_extension": ".py",
   "mimetype": "text/x-python",
   "name": "python",
   "nbconvert_exporter": "python",
   "pygments_lexer": "ipython3",
   "version": "3.7.0"
  }
 },
 "nbformat": 4,
 "nbformat_minor": 2
}
