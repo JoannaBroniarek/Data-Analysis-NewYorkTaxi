{
 "cells": [
  {
   "cell_type": "markdown",
   "metadata": {},
   "source": [
    "## CRQ2: Visualize Taxis movements! \n",
    "\n",
    "\"NYC is divided in many Taxis zones. For each yellow cab trip we know the zone the Taxi pick up and drop off the users. \"\n",
    "We are going to visualize on a chropleth map:\n",
    "* the number of trips that starts in each zone. \n",
    "* the number of trips that ends in each zone. \n",
    "We would like to compare these maps, as well. For that, we create the third map with the number of trips which are differences between 'start_trips' and 'end_trips'.\n",
    "\n",
    "To perform this task we use the library folium.\n",
    "The Geojson we use to trace the zones is taxi_zones.json in the Homework's repository."
   ]
  },
  {
   "cell_type": "code",
   "execution_count": 1,
   "metadata": {},
   "outputs": [],
   "source": [
    "import folium\n",
    "import json\n",
    "import requests\n",
    "import pandas as pd\n",
    "import CRQ2_functions"
   ]
  },
  {
   "cell_type": "markdown",
   "metadata": {},
   "source": [
    "We download the 'taxi_zones.json' file from the Homework's repository.\n",
    "We will also use data previously prepared and cleaned during the previous EDA (filtration.py). "
   ]
  },
  {
   "cell_type": "code",
   "execution_count": 14,
   "metadata": {},
   "outputs": [],
   "source": [
    "geojson_url = \"https://github.com/CriMenghini/ADM-2018/raw/master/Homework_2/taxi_zones.json\"\n",
    "response = requests.get(geojson_url)\n",
    "geojson = json.loads(response.text)"
   ]
  },
  {
   "cell_type": "code",
   "execution_count": 10,
   "metadata": {},
   "outputs": [
    {
     "name": "stdout",
     "output_type": "stream",
     "text": [
      "cleaned_yellow_tripdata_2018-01.csv\n",
      "cleaned_yellow_tripdata_2018-02.csv\n",
      "cleaned_yellow_tripdata_2018-03.csv\n",
      "cleaned_yellow_tripdata_2018-04.csv\n",
      "cleaned_yellow_tripdata_2018-05.csv\n",
      "cleaned_yellow_tripdata_2018-06.csv\n"
     ]
    }
   ],
   "source": [
    "all_data_df = CRQ2_functions.get_cleaned_data()"
   ]
  },
  {
   "cell_type": "code",
   "execution_count": 15,
   "metadata": {},
   "outputs": [],
   "source": [
    "taxi_zone_lookup = pd.read_csv(\"taxi_zone_lookup.csv\")"
   ]
  },
  {
   "cell_type": "markdown",
   "metadata": {},
   "source": [
    "To calculate the number of trips that starts and ends in each zone we need to:\n",
    "* join on LocationID the data with taxi_zone_lookup file \n",
    "* group by the column \"Zone\" and count the number of trips.\n",
    "\n",
    "Then, running the function **prepare_and_draw_colormap** (CRQ2_functions.py), we create a chropleth map colored by the amount of the trips."
   ]
  },
  {
   "cell_type": "code",
   "execution_count": 16,
   "metadata": {},
   "outputs": [],
   "source": [
    "start_trip_location = pd.merge(all_data_df, taxi_zone_lookup, left_on='PULocationID' , right_on='LocationID')\n",
    "end_trip_location = pd.merge(all_data_df, taxi_zone_lookup, left_on='DOLocationID' , right_on='LocationID')\n",
    "\n",
    "start_grouped_by_zone = start_trip_location[['Zone', 'PULocationID']].groupby(['Zone']).agg({'count'})\n",
    "end_grouped_by_zone = end_trip_location[['Zone', 'DOLocationID']].groupby(['Zone']).agg({'count'})"
   ]
  },
  {
   "cell_type": "markdown",
   "metadata": {},
   "source": [
    "________\n",
    "* To see the map colored by the number of 'start_trips', please open the file **\"Start_trips_map.html\"** from a repository."
   ]
  },
  {
   "cell_type": "code",
   "execution_count": 182,
   "metadata": {},
   "outputs": [
    {
     "name": "stdout",
     "output_type": "stream",
     "text": [
      "'Freshkills Park'\n"
     ]
    }
   ],
   "source": [
    "start_map = CRQ2_functions.prepare_and_draw_colormap(start_grouped_by_zone, column = 'PULocationID', file='Start_trips_map.html')"
   ]
  },
  {
   "cell_type": "markdown",
   "metadata": {},
   "source": [
    "_________\n",
    "* To see the map colored by the number of 'start_trips', please open the file **\"End_trips_map.html\"** from a repository."
   ]
  },
  {
   "cell_type": "code",
   "execution_count": 183,
   "metadata": {},
   "outputs": [
    {
     "name": "stdout",
     "output_type": "stream",
     "text": [
      "'Great Kills Park'\n"
     ]
    }
   ],
   "source": [
    "end_map = CRQ2_functions.prepare_and_draw_colormap(end_grouped_by_zone, column = 'DOLocationID', file='End_trips_map.html')"
   ]
  },
  {
   "cell_type": "markdown",
   "metadata": {},
   "source": [
    "______________\n",
    "In order to visualise the differences between these maps, we calculate the difference between the number of trips that starts and ends in each zone."
   ]
  },
  {
   "cell_type": "markdown",
   "metadata": {},
   "source": [
    "**'difference'** = **number_of_trips that starts**  -  **number_of_trips that ends** "
   ]
  },
  {
   "cell_type": "code",
   "execution_count": 181,
   "metadata": {},
   "outputs": [
    {
     "data": {
      "text/html": [
       "<div>\n",
       "<style scoped>\n",
       "    .dataframe tbody tr th:only-of-type {\n",
       "        vertical-align: middle;\n",
       "    }\n",
       "\n",
       "    .dataframe tbody tr th {\n",
       "        vertical-align: top;\n",
       "    }\n",
       "\n",
       "    .dataframe thead tr th {\n",
       "        text-align: left;\n",
       "    }\n",
       "\n",
       "    .dataframe thead tr:last-of-type th {\n",
       "        text-align: right;\n",
       "    }\n",
       "</style>\n",
       "<table border=\"1\" class=\"dataframe\">\n",
       "  <thead>\n",
       "    <tr>\n",
       "      <th></th>\n",
       "      <th>PULocationID</th>\n",
       "      <th>DOLocationID</th>\n",
       "      <th>difference</th>\n",
       "    </tr>\n",
       "    <tr>\n",
       "      <th></th>\n",
       "      <th>count</th>\n",
       "      <th>count</th>\n",
       "      <th></th>\n",
       "    </tr>\n",
       "    <tr>\n",
       "      <th>Zone</th>\n",
       "      <th></th>\n",
       "      <th></th>\n",
       "      <th></th>\n",
       "    </tr>\n",
       "  </thead>\n",
       "  <tbody>\n",
       "    <tr>\n",
       "      <th>LaGuardia Airport</th>\n",
       "      <td>1497471</td>\n",
       "      <td>583484.0</td>\n",
       "      <td>913987.0</td>\n",
       "    </tr>\n",
       "    <tr>\n",
       "      <th>JFK Airport</th>\n",
       "      <td>1219862</td>\n",
       "      <td>398411.0</td>\n",
       "      <td>821451.0</td>\n",
       "    </tr>\n",
       "    <tr>\n",
       "      <th>Penn Station/Madison Sq West</th>\n",
       "      <td>1775762</td>\n",
       "      <td>1385359.0</td>\n",
       "      <td>390403.0</td>\n",
       "    </tr>\n",
       "    <tr>\n",
       "      <th>Garment District</th>\n",
       "      <td>1102072</td>\n",
       "      <td>822772.0</td>\n",
       "      <td>279300.0</td>\n",
       "    </tr>\n",
       "    <tr>\n",
       "      <th>Upper East Side South</th>\n",
       "      <td>2216156</td>\n",
       "      <td>1940867.0</td>\n",
       "      <td>275289.0</td>\n",
       "    </tr>\n",
       "  </tbody>\n",
       "</table>\n",
       "</div>"
      ],
      "text/plain": [
       "                             PULocationID DOLocationID difference\n",
       "                                    count        count           \n",
       "Zone                                                             \n",
       "LaGuardia Airport                 1497471     583484.0   913987.0\n",
       "JFK Airport                       1219862     398411.0   821451.0\n",
       "Penn Station/Madison Sq West      1775762    1385359.0   390403.0\n",
       "Garment District                  1102072     822772.0   279300.0\n",
       "Upper East Side South             2216156    1940867.0   275289.0"
      ]
     },
     "execution_count": 181,
     "metadata": {},
     "output_type": "execute_result"
    }
   ],
   "source": [
    "joined_grouped_by_zone = start_grouped_by_zone.join(end_grouped_by_zone)\n",
    "joined_grouped_by_zone['difference'] = joined_grouped_by_zone['PULocationID'] - joined_grouped_by_zone['DOLocationID']\n",
    "\n",
    "joined_grouped_by_zone.sort_values(['difference'], ascending=False).head()"
   ]
  },
  {
   "cell_type": "code",
   "execution_count": 189,
   "metadata": {},
   "outputs": [
    {
     "data": {
      "text/html": [
       "<div>\n",
       "<style scoped>\n",
       "    .dataframe tbody tr th:only-of-type {\n",
       "        vertical-align: middle;\n",
       "    }\n",
       "\n",
       "    .dataframe tbody tr th {\n",
       "        vertical-align: top;\n",
       "    }\n",
       "\n",
       "    .dataframe thead tr th {\n",
       "        text-align: left;\n",
       "    }\n",
       "\n",
       "    .dataframe thead tr:last-of-type th {\n",
       "        text-align: right;\n",
       "    }\n",
       "</style>\n",
       "<table border=\"1\" class=\"dataframe\">\n",
       "  <thead>\n",
       "    <tr>\n",
       "      <th></th>\n",
       "      <th>PULocationID</th>\n",
       "      <th>DOLocationID</th>\n",
       "      <th>difference</th>\n",
       "    </tr>\n",
       "    <tr>\n",
       "      <th></th>\n",
       "      <th>count</th>\n",
       "      <th>count</th>\n",
       "      <th></th>\n",
       "    </tr>\n",
       "    <tr>\n",
       "      <th>Zone</th>\n",
       "      <th></th>\n",
       "      <th></th>\n",
       "      <th></th>\n",
       "    </tr>\n",
       "  </thead>\n",
       "  <tbody>\n",
       "    <tr>\n",
       "      <th>East Harlem South</th>\n",
       "      <td>379709</td>\n",
       "      <td>642722.0</td>\n",
       "      <td>-263013.0</td>\n",
       "    </tr>\n",
       "    <tr>\n",
       "      <th>West Chelsea/Hudson Yards</th>\n",
       "      <td>753557</td>\n",
       "      <td>981386.0</td>\n",
       "      <td>-227829.0</td>\n",
       "    </tr>\n",
       "    <tr>\n",
       "      <th>East Harlem North</th>\n",
       "      <td>212792</td>\n",
       "      <td>418717.0</td>\n",
       "      <td>-205925.0</td>\n",
       "    </tr>\n",
       "    <tr>\n",
       "      <th>Two Bridges/Seward Park</th>\n",
       "      <td>88200</td>\n",
       "      <td>250158.0</td>\n",
       "      <td>-161958.0</td>\n",
       "    </tr>\n",
       "    <tr>\n",
       "      <th>Astoria</th>\n",
       "      <td>85583</td>\n",
       "      <td>231153.0</td>\n",
       "      <td>-145570.0</td>\n",
       "    </tr>\n",
       "  </tbody>\n",
       "</table>\n",
       "</div>"
      ],
      "text/plain": [
       "                          PULocationID DOLocationID difference\n",
       "                                 count        count           \n",
       "Zone                                                          \n",
       "East Harlem South               379709     642722.0  -263013.0\n",
       "West Chelsea/Hudson Yards       753557     981386.0  -227829.0\n",
       "East Harlem North               212792     418717.0  -205925.0\n",
       "Two Bridges/Seward Park          88200     250158.0  -161958.0\n",
       "Astoria                          85583     231153.0  -145570.0"
      ]
     },
     "execution_count": 189,
     "metadata": {},
     "output_type": "execute_result"
    }
   ],
   "source": [
    "joined_grouped_by_zone.sort_values(['difference'], ascending=True).head()"
   ]
  },
  {
   "cell_type": "markdown",
   "metadata": {},
   "source": [
    "* To see the map colored by the differences in number of 'start_trips' and 'end_trips', please open the file **\"Diff_trips_map.html\"** from a repository."
   ]
  },
  {
   "cell_type": "code",
   "execution_count": 184,
   "metadata": {},
   "outputs": [
    {
     "name": "stdout",
     "output_type": "stream",
     "text": [
      "'Freshkills Park'\n",
      "Thresholds are not sorted.\n"
     ]
    }
   ],
   "source": [
    "diff_map = CRQ2_functions.prepare_and_draw_colormap(joined_grouped_by_zone, column = 'difference', file='Diff_trips_map.html')"
   ]
  },
  {
   "cell_type": "markdown",
   "metadata": {},
   "source": [
    "### Basic Results\n",
    "________\n",
    "**We noticed that at LaGuardia and JFK Airport airports is the biggest difference between pick-ups and drop-offs, with more pick-ups**. This seems to be a sensible result as there are airports, where the taxi traffic is usually high.\n"
   ]
  },
  {
   "cell_type": "markdown",
   "metadata": {},
   "source": [
    "**In the case of East Harlem South, West Chelsea / Hudson Yards, East Harlem North the difference is also significant, but with more drop-offs than pickups.**"
   ]
  },
  {
   "cell_type": "markdown",
   "metadata": {},
   "source": [
    "**We also observed high taxi traffic in most of the zones in the Manhattan area.**"
   ]
  }
 ],
 "metadata": {
  "kernelspec": {
   "display_name": "Python 3",
   "language": "python",
   "name": "python3"
  },
  "language_info": {
   "codemirror_mode": {
    "name": "ipython",
    "version": 3
   },
   "file_extension": ".py",
   "mimetype": "text/x-python",
   "name": "python",
   "nbconvert_exporter": "python",
   "pygments_lexer": "ipython3",
   "version": "3.6.4"
  }
 },
 "nbformat": 4,
 "nbformat_minor": 2
}
